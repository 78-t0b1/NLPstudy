{
 "cells": [
  {
   "cell_type": "markdown",
   "metadata": {},
   "source": [
    "# Tanmay Suhas Jagtap\n",
    "#### Portfolio : https://78-t0b1.github.io/Portfolio.github.io/\n",
    "#### Linkein : https://www.linkedin.com/in/tanmay-jagtap-t0b1/\n",
    "#### Github : https://github.com/78-t0b1"
   ]
  },
  {
   "cell_type": "markdown",
   "metadata": {},
   "source": [
    "# **Week 1**\n",
    "\n",
    "## What is NLP?\n",
    "\n",
    "[IBM](https://www.ibm.com/topics/natural-language-processing)\n",
    "\n",
    "Natural language processing (NLP) is a subfield of computer science and artificial intelligence (AI) that uses machine learning to enable computers to understand and communicate with human language. \n",
    "\n",
    "## What are its applications?\n",
    "\n",
    "Finance: In financial dealings, nanoseconds might make the difference between success and failure when accessing data, or making trades or deals. NLP can speed the mining of information from financial statements, annual and regulatory reports, news releases or even social media.\n",
    "\n",
    "Healthcare: New medical insights and breakthroughs can arrive faster than many healthcare professionals can keep up. NLP and AI-based tools can help speed the analysis of health records and medical research papers, making better-informed medical decisions possible, or assisting in the detection or even prevention of medical conditions.\n",
    "\n",
    "Insurance: NLP can analyze claims to look for patterns that can identify areas of concern and find inefficiencies in claims processing—leading to greater optimization of processing and employee efforts.\n",
    "\n",
    "Legal: Almost any legal case might require reviewing mounds of paperwork, background information and legal precedent. NLP can help automate legal discovery, assisting in the organization of information, speeding review and helping ensure that all relevant details are captured for consideration.\n",
    "\n",
    "\n",
    "**Types of NLP business applications :**\n",
    "[twilio blog](https://www.twilio.com/en-us/blog/nlp-steps)\n",
    "\n",
    "- Text to speech: Converting text-to-speech data, then reproducing the text as natural-sounding speech\n",
    "- Chatbots: Helping chatbots understand and respond to customer inquiries\n",
    "- Urgency detection: Analyzing language to prioritize tasks\n",
    "- Natural language understanding: Converting speech to text and analyzing its intent\n",
    "- Autocorrect: Detecting and removing text errors and suggesting alternatives\n",
    "- Sentiment analysis: Revealing the perceptions people have of your goods and services and those of your competitors\n",
    "- Speech recognition: Powering applications that understand users’ voices and deciphering their meaning\n"
   ]
  },
  {
   "attachments": {
    "image.png": {
     "image/png": "[encoded data removed]"
    }
   },
   "cell_type": "markdown",
   "metadata": {},
   "source": [
    "## Lifecycle of NLP project\n",
    "\n",
    "\n",
    "[Neptune AI blog](https://neptune.ai/blog/life-cycle-of-a-machine-learning-project)\n",
    "\n",
    "![image.png](attachment:image.png)\n",
    "\n",
    "1. Problem Understanding\n",
    "- Clearly define the objectives and requirements of the NLP project, such as whether it will be integrated into a chatbot, used for a specific industry, or designed as a generic model.\n",
    "- Understand the context and input types the NLP model needs to handle, such as emojis, titles, and conversational context.\n",
    "- Clarify the purpose and intended use case of the sentiment analysis or other NLP capabilities.\n",
    "\n",
    "2. Data Collection and Labeling\n",
    "- Determine if the client has provided any initial data, or if you need to start from scratch with data collection.\n",
    "- Explore techniques to handle limited data, such as using GPT models for synthetic data generation or leveraging data labeling tools like Argilla.\n",
    "- Invest significant time and resources into high-quality data collection and annotation, as this is crucial for building an effective NLP model.\n",
    "\n",
    "3. Data Preparation and Preprocessing\n",
    "- Perform lexical analysis to segment text into meaningful units like words, phrases, and sentences.\n",
    "- Conduct syntactic analysis to check the grammatical structure of the text.\n",
    "- Carry out semantic analysis to understand the meaning and context of the text.\n",
    "- Handle other preprocessing steps like stop word removal, stemming/lemmatization, and feature engineering.\n",
    "\n",
    "4. Model Development and Training\n",
    "- Select appropriate NLP models and techniques, such as traditional machine learning algorithms or newer transformer-based models like BERT.\n",
    "- Train the NLP models using the prepared dataset, optimizing hyperparameters and monitoring performance.\n",
    "- Evaluate the model's performance using relevant metrics like accuracy, precision, recall, and F1-score.\n",
    "\n",
    "5. Model Deployment and Maintenance\n",
    "- Integrate the trained NLP model into the production environment, whether that's a chatbot, an analytics system, or some other application.\n",
    "- Monitor the model's performance in the real-world setting and fine-tune or retrain it as needed to maintain high accuracy.\n",
    "- Ensure the NLP system can handle evolving language patterns, new data sources, and changing user requirements over time.\n",
    "\n",
    "\n",
    "Throughout this lifecycle, it's important to maintain close collaboration between domain experts, data scientists, and software engineers to ensure the NLP project meets the desired business objectives. The iterative nature of NLP projects also requires flexibility and a willingness to revisit earlier stages as needed to improve the model's performance and robustness."
   ]
  },
  {
   "cell_type": "markdown",
   "metadata": {},
   "source": [
    "## Problem Understanding\n",
    "\n",
    "Understanding the different algorithms and their applications in Natural Language Processing (NLP) is crucial for solving various text-based problems. Here’s a detailed breakdown of common NLP tasks, the algorithms used for each task, and their applications:\n",
    "\n",
    "### 1. Sentiment Analysis\n",
    "**Purpose**: Determine the sentiment (positive, negative, neutral) expressed in text.\n",
    "\n",
    "**Common Algorithms**:\n",
    "- **Lexicon-Based Methods**: Use predefined dictionaries of words associated with positive or negative sentiments. Examples include VADER (Valence Aware Dictionary and sEntiment Reasoner) and SentiWordNet.\n",
    "  - **When to Use**: Quick and interpretable sentiment analysis on relatively simple texts where context and sarcasm are not major concerns.\n",
    "  \n",
    "- **Machine Learning Classifiers**: Use algorithms like Naive Bayes, Support Vector Machines (SVM), or Logistic Regression trained on labeled datasets.\n",
    "  - **When to Use**: When you have labeled training data and need more flexibility than lexicon-based methods.\n",
    "  \n",
    "- **Deep Learning Models**: Use Recurrent Neural Networks (RNNs), Long Short-Term Memory (LSTM) networks, and transformer-based models like BERT for more accurate sentiment analysis.\n",
    "  - **When to Use**: When dealing with complex texts where context, syntax, and semantics play a significant role.\n",
    "\n",
    "### 2. Named Entity Recognition (NER)\n",
    "**Purpose**: Identify and classify named entities (people, organizations, locations, etc.) in text.\n",
    "\n",
    "**Common Algorithms**:\n",
    "- **Conditional Random Fields (CRFs)**: Probabilistic models used for structured prediction.\n",
    "  - **When to Use**: Traditional approach, effective for many NER tasks with structured and labeled training data.\n",
    "  \n",
    "- **Neural Networks**: Use architectures like BiLSTM-CRF to combine neural networks with CRFs for improved performance.\n",
    "  - **When to Use**: When you need more sophisticated models that can capture complex dependencies in the text.\n",
    "  \n",
    "- **Transformer Models**: Models like BERT, RoBERTa, and GPT-3 fine-tuned for NER tasks.\n",
    "  - **When to Use**: When state-of-the-art performance is required, particularly for texts with rich contextual information.\n",
    "\n",
    "### 3. Text Classification\n",
    "**Purpose**: Assign predefined categories or labels to text.\n",
    "\n",
    "**Common Algorithms**:\n",
    "- **Naive Bayes**: Probabilistic classifier based on Bayes’ theorem.\n",
    "  - **When to Use**: Simple, fast, and effective for many text classification tasks, especially with small datasets.\n",
    "  \n",
    "- **Support Vector Machines (SVM)**: Supervised learning models that can perform linear and non-linear classification.\n",
    "  - **When to Use**: When you need robust performance on medium-sized datasets and can afford the computational cost.\n",
    "  \n",
    "- **Convolutional Neural Networks (CNNs)**: Capture local patterns in text, often used for short text classification.\n",
    "  - **When to Use**: When classifying text that benefits from capturing spatial hierarchies (e.g., sentiment in sentences).\n",
    "  \n",
    "- **Transformers**: BERT, DistilBERT, and other transformer models fine-tuned for text classification.\n",
    "  - **When to Use**: For high performance on complex classification tasks with sufficient computational resources.\n",
    "\n",
    "### 4. Machine Translation\n",
    "**Purpose**: Translate text from one language to another.\n",
    "\n",
    "**Common Algorithms**:\n",
    "- **Statistical Machine Translation (SMT)**: Uses statistical models based on the analysis of bilingual text corpora.\n",
    "  - **When to Use**: Older approach, less common now, suitable when limited computational resources are available.\n",
    "  \n",
    "- **Neural Machine Translation (NMT)**: Uses neural networks to model the entire translation process.\n",
    "  - **When to Use**: When you have sufficient data and computational power to train neural models.\n",
    "  \n",
    "- **Transformer-Based Models**: Use models like Transformer, BERT, and GPT for translation tasks.\n",
    "  - **When to Use**: For state-of-the-art translation performance, particularly in complex and high-resource language pairs.\n",
    "\n",
    "### 5. Summarization\n",
    "**Purpose**: Generate concise summaries of longer text.\n",
    "\n",
    "**Common Algorithms**:\n",
    "- **Extractive Summarization**: Selects key sentences from the original text to form the summary. Algorithms include TextRank and other graph-based methods.\n",
    "  - **When to Use**: When you need quick, interpretable summaries that preserve the original text’s meaning.\n",
    "  \n",
    "- **Abstractive Summarization**: Generates summaries by creating new sentences, using models like seq2seq (sequence-to-sequence) with attention mechanisms, and T5 (Text-to-Text Transfer Transformer).\n",
    "  - **When to Use**: When you need more natural and human-like summaries that may rephrase or paraphrase the original text.\n",
    "\n"
   ]
  },
  {
   "cell_type": "markdown",
   "metadata": {},
   "source": [
    "##  Data Preparation and Preprocessing\n",
    "\n",
    "In NLP data preperation in diffrent than other datsets. Main reson is data we are handeling here is unstructured. Text pre-processing is the process of transforming unstructured text to structured text to prepare it for analysis. To understand text pre processing first lets understand what does word means.\n",
    "\n",
    "### Word\n",
    "\n",
    "[Speech and Language Processing](https://web.stanford.edu/~jurafsky/slp3/ed3book.pdf)\n",
    "\n",
    " **_\"He stepped out into the hall, was delighted to encounter a water brother.\"_**\n",
    "\n",
    "This sentence has 13 words if we don’t count punctuation marks as words, 15\n",
    "if we count punctuation. Whether we treat period (“.”), comma (“,”), and so on as\n",
    "words depends on the task. Punctuation is critical for finding boundaries of things\n",
    "(commas, periods, colons) and for identifying some aspects of meaning (question\n",
    "marks, exclamation marks, quotation marks). For some tasks, like part-of-speech\n",
    "tagging or parsing or speech synthesis, we sometimes treat punctuation marks as if\n",
    "they were separate words.\n",
    "\n",
    "**_\"They picnicked by the pool, then lay back on the grass and looked at the stars.\"_**\n",
    "\n",
    "Should we consider a capitalized string (like They) and one that is uncapitalized (like they) to be the same word type?\n",
    "The answer is that it depends on the task! They and they might be lumped together\n",
    "as the same type in some tasks, like speech recognition, where we might just care\n",
    "about getting the words in order and don’t care about the formatting, while for other\n",
    "tasks, such as deciding whether a particular word is a noun or verb (part-of-speech\n",
    "tagging) or whether a word is a name of a person or location (named-entity tagging), capitalization is a useful feature and is retained. Sometimes we keep around\n",
    "two versions of a particular NLP model, one with capitalization and one without\n",
    "capitalization.\n",
    "\n",
    "Because language is so situated, when developing computational models for language processing from a corpus, it’s important to consider who produced the language, in what context, for what purpose. How can a user of a dataset know all these\n",
    "details? The best way is for the corpus creator to build a datasheet (Gebru et al.,\n",
    "2020) or data statement (Bender et al., 2021) for each corpus. A datasheet specifies\n",
    "properties of a dataset like:\n",
    "\n",
    "Motivation: Why was the corpus collected, by whom, and who funded it?\n",
    "\n",
    "Situation: When and in what situation was the text written/spoken? For example,\n",
    "was there a task? Was the language originally spoken conversation, edited\n",
    "text, social media communication, monologue vs. dialogue?\n",
    "\n",
    "Language variety: What language (including dialect/region) was the corpus in?\n",
    "\n",
    "Speaker demographics: What was, e.g., the age or gender of the text’s authors?\n",
    "\n",
    "Collection process: How big is the data? If it is a subsample how was it sampled?\n",
    "Was the data collected with consent? How was the data pre-processed, and\n",
    "what metadata is available?\n",
    "\n",
    "Annotation process: What are the annotations, what are the demographics of the\n",
    "annotators, how were they trained, how was the data annotated?\n",
    "\n",
    "Distribution: Are there copyright or other intellectual property restrictions?"
   ]
  },
  {
   "cell_type": "markdown",
   "metadata": {},
   "source": [
    "### Text Normalization\n",
    "\n",
    "At least three tasks are commonly applied as part of any normalization process:\n",
    "\n",
    "1. Tokenizing (segmenting) words\n",
    "2. Normalizing word formats\n",
    "3. Segmenting sentences\n",
    "\n",
    "## 1. Tokenization\n",
    "\n",
    "**_\"Tokenization is the process of breaking down a piece of text, like a sentence or a paragraph, into individual words or “tokens.” These tokens are the basic building blocks of language, and tokenization helps computers understand and process human language by splitting it into manageable units.\"_**\n",
    "\n",
    "There are roughly two classes of tokenization\n",
    "algorithms. \n",
    "\n",
    "In top-down tokenization, we define a standard and implement rules\n",
    "to implement that kind of tokenization.\n",
    "\n",
    "In bottom-up tokenization, we use simple\n",
    "statistics of letter sequences to break up words into subword tokens."
   ]
  },
  {
   "cell_type": "markdown",
   "metadata": {},
   "source": [
    "#### Top down Tokenization:\n",
    "\n",
    "Top-down (rule-based) tokenization is a method for dividing text into smaller components (tokens) using predefined rules. This approach uses a set of deterministic rules to identify boundaries between tokens, such as words, punctuation marks, and other meaningful elements. \n",
    "\n",
    "Key Features of Top-Down (Rule-Based) Tokenization:\n",
    "1. Deterministic: The rules are fixed and do not change, leading to predictable results.\n",
    "2. Predefined Rules: These rules are usually handcrafted by linguists or experts in the language.\n",
    "3. Simplicity: Often simpler and faster than statistical methods since they do not rely on training data.\n",
    "\n",
    "Example: \"Email me at user@example.com\" → [\"Email\", \"me\", \"at\", \"user\", \"@\", \"example\", \".\", \"com\"]\n"
   ]
  },
  {
   "cell_type": "code",
   "execution_count": 1,
   "metadata": {},
   "outputs": [
    {
     "name": "stdout",
     "output_type": "stream",
     "text": [
      "['Hello', ',', 'world', '!', \"It's\", 'a', 'well', 'known', 'fact', '.']\n"
     ]
    }
   ],
   "source": [
    "import re\n",
    "\n",
    "def simple_tokenizer(text):\n",
    "    # Define the tokenization pattern\n",
    "    pattern = r\"[\\w']+|[.,!?;]\"\n",
    "    return re.findall(pattern, text)\n",
    "\n",
    "# Example usage\n",
    "text = \"Hello, world! It's a well-known fact.\"\n",
    "tokens = simple_tokenizer(text)\n",
    "print(tokens)\n"
   ]
  },
  {
   "cell_type": "markdown",
   "metadata": {},
   "source": [
    "#### Bottom-up Tokenization:\n",
    "\n",
    "Instead of defining tokens as words (whether delimited by spaces\n",
    "or more complex algorithms), or as characters (as in Chinese), we can use our data to\n",
    "automatically tell us what the tokens should be. This is especially useful in dealing\n",
    "with unknown words, an important problem in language processing. As we will\n",
    "see in the next chapter, NLP algorithms often learn some facts about language from\n",
    "one corpus (a training corpus) and then use these facts to make decisions about a\n",
    "separate test corpus and its language. Thus if our training corpus contains, say the\n",
    "words low, new, newer, but not lower, then if the word lower appears in our test\n",
    "corpus, our system will not know what to do with it.\n",
    "\n",
    "To deal with this unknown word problem, modern tokenizers automatically insubwords duce sets of tokens that include tokens smaller than words, called subwords. Subwords can be arbitrary substrings, or they can be meaning-bearing units like the\n",
    "morphemes -est or -er. (A morpheme is the smallest meaning-bearing unit of a language; for example the word unlikeliest has the morphemes un-, likely, and -est.)\n",
    "\n",
    "In modern tokenization schemes, most tokens are words, but some tokens are frequently occurring morphemes or other subwords like -er. Every unseen word like\n",
    "lower can thus be represented by some sequence of known subword units, such as\n",
    "low and er, or even as a sequence of individual letters if necessary.\n",
    "\n",
    "##### **Byte-pair Encoding**\n",
    "\n",
    "BPE starts with the smallest possible units (individual characters) and iteratively merges the most frequent pairs of symbols to form larger units. This process continues until a predefined vocabulary size is reached.\n",
    "\n",
    "Steps of Byte Pair Encoding\n",
    "1. Initialize Vocabulary: Start with a vocabulary that includes all individual characters in the text corpus.\n",
    "2. Count Pairs: Count all adjacent character pairs in the corpus.\n",
    "3. Merge the Most Frequent Pair: Find the most frequent pair of characters and merge them into a new symbol.\n",
    "4. Repeat: Repeat the process of counting and merging until the desired vocabulary size is achieved.\n",
    "\n",
    "Byte Pair Encoding is a powerful tokenization method widely used in NLP, especially in models like GPT and BERT. It balances the need for a manageable vocabulary size with the ability to handle rare and out-of-vocabulary words effectively."
   ]
  },
  {
   "cell_type": "markdown",
   "metadata": {},
   "source": [
    "Implimentation: \n",
    "\n",
    "_Corpus: low low lower newer_\n"
   ]
  },
  {
   "cell_type": "code",
   "execution_count": 2,
   "metadata": {},
   "outputs": [
    {
     "name": "stdout",
     "output_type": "stream",
     "text": [
      "Merge 1: ('l', 'o')\n",
      "{'lo w': 2, 'lo w e r': 1, 'n e w e r': 1, 'lo w e s t': 1}\n",
      "Merge 2: ('lo', 'w')\n",
      "{'low': 2, 'low e r': 1, 'n e w e r': 1, 'low e s t': 1}\n",
      "Merge 3: ('low', 'e')\n",
      "{'low': 2, 'lowe r': 1, 'n e w e r': 1, 'lowe s t': 1}\n",
      "Merge 4: ('lowe', 'r')\n",
      "{'low': 2, 'lower': 1, 'n e w e r': 1, 'lowe s t': 1}\n",
      "Merge 5: ('n', 'e')\n",
      "{'low': 2, 'lower': 1, 'ne w e r': 1, 'lowe s t': 1}\n",
      "Merge 6: ('ne', 'w')\n",
      "{'low': 2, 'lower': 1, 'new e r': 1, 'lowe s t': 1}\n",
      "Merge 7: ('new', 'e')\n",
      "{'low': 2, 'lower': 1, 'newe r': 1, 'lowe s t': 1}\n",
      "Merge 8: ('newe', 'r')\n",
      "{'low': 2, 'lower': 1, 'newer': 1, 'lowe s t': 1}\n",
      "Merge 9: ('lowe', 's')\n",
      "{'low': 2, 'lower': 1, 'newer': 1, 'lowes t': 1}\n",
      "Merge 10: ('lowes', 't')\n",
      "{'low': 2, 'lower': 1, 'newer': 1, 'lowest': 1}\n",
      "{'low': 2, 'lower': 1, 'newer': 1, 'lowest': 1}\n"
     ]
    }
   ],
   "source": [
    "from collections import defaultdict, Counter\n",
    "\n",
    "def get_stats(vocab):\n",
    "    pairs = defaultdict(int)\n",
    "    for word, freq in vocab.items():\n",
    "        symbols = word.split()\n",
    "        for i in range(len(symbols) - 1):\n",
    "            pairs[symbols[i], symbols[i + 1]] += freq\n",
    "    return pairs\n",
    "\n",
    "def merge_vocab(pair, v_in):\n",
    "    v_out = {}\n",
    "    bigram = ' '.join(pair)\n",
    "    replacement = ''.join(pair)\n",
    "    for word in v_in:\n",
    "        w_out = word.replace(bigram, replacement)\n",
    "        v_out[w_out] = v_in[word]\n",
    "    return v_out\n",
    "\n",
    "# Example vocabulary\n",
    "vocab = {\n",
    "    'l o w': 2,\n",
    "    'l o w e r': 1,\n",
    "    'n e w e r': 1,\n",
    "    'l o w e s t': 1\n",
    "}\n",
    "\n",
    "num_merges = 10\n",
    "for i in range(num_merges):\n",
    "    pairs = get_stats(vocab)\n",
    "    if not pairs:\n",
    "        break\n",
    "    best = max(pairs, key=pairs.get)\n",
    "    vocab = merge_vocab(best, vocab)\n",
    "    print(f'Merge {i+1}: {best}')\n",
    "    print(vocab)\n",
    "\n",
    "print(vocab)\n"
   ]
  },
  {
   "cell_type": "markdown",
   "metadata": {},
   "source": [
    "### 2. Word Normalization, Lemmatization and Stemming\n",
    "\n",
    "**_\"Word normalization is the task of putting words/tokens in a standard format.\"_**\n",
    "\n",
    "The case folding simplest case of word normalization is case folding. Mapping everything to lower\n",
    "case means that Woodchuck and woodchuck are represented identically, which is\n",
    "very helpful for generalization in many tasks, such as information retrieval or speech\n",
    "recognition.\n",
    "\n",
    "Systems that use BPE or other kinds of bottom-up tokenization may do no further word normalization. In other NLP systems, we may want to do further normalizations, like choosing a single normal form for words with multiple forms like\n",
    "USA and US or uh-huh and uhhuh.\n",
    "\n",
    "#### Lemmatization\n",
    "\n",
    "**_\"Lemmatization is the task of determining that two words have the same root, despite their surface differences.\"_**\n",
    "\n",
    "The words am, are, and is have the shared lemma be; the words dinner and dinners\n",
    "both have the lemma dinner. Lemmatizing each of these forms to the same lemma\n",
    "will let us find all mentions of words in Polish like Warsaw. The lemmatized form\n",
    "of a sentence like He is reading detective stories would thus be He be read detective\n",
    "story.\n"
   ]
  },
  {
   "cell_type": "code",
   "execution_count": 5,
   "metadata": {},
   "outputs": [
    {
     "name": "stdout",
     "output_type": "stream",
     "text": [
      "Token: The         Lemma: the\n",
      "Token: children         Lemma: child\n",
      "Token: were         Lemma: be\n",
      "Token: running         Lemma: run\n",
      "Token: and         Lemma: and\n",
      "Token: had         Lemma: have\n",
      "Token: eaten         Lemma: eat\n",
      "Token: their         Lemma: their\n",
      "Token: meals         Lemma: meal\n",
      "Token: .         Lemma: .\n"
     ]
    }
   ],
   "source": [
    "\n",
    "import spacy\n",
    "\n",
    "# Load the spaCy model\n",
    "nlp = spacy.load(\"en_core_web_sm\")\n",
    "\n",
    "# Example text\n",
    "text = \"The children were running and had eaten their meals.\"\n",
    "\n",
    "# Process the text\n",
    "doc = nlp(text)\n",
    "\n",
    "# Print tokens and their lemmas\n",
    "for token in doc:\n",
    "    print(f\"Token: {token.text}         Lemma: {token.lemma_}\")"
   ]
  },
  {
   "cell_type": "markdown",
   "metadata": {},
   "source": [
    "#### Stemming\n",
    "\n",
    "Lemmatization algorithms can be complex. For this reason we sometimes make\n",
    "use of a simpler but cruder method, which mainly consists of chopping off word final affixes. This naive version of morphological analysis is called stemming.\n",
    "\n",
    "_\"This was not the map we found in Billy Bones’s chest, but\n",
    "an accurate copy, complete in all things-names and heights\n",
    "and soundings-with the single exception of the red crosses\n",
    "and the written notes.\"_\n",
    "\n",
    "produces the following stemmed output:\n",
    "\n",
    "_\"Thi wa not the map we found in Billi Bone s chest but an\n",
    "accur copi complet in all thing name and height and sound\n",
    "with the singl except of the red cross and the written note\"_"
   ]
  },
  {
   "cell_type": "code",
   "execution_count": 8,
   "metadata": {},
   "outputs": [
    {
     "name": "stdout",
     "output_type": "stream",
     "text": [
      "Token: The       Stem: the\n",
      "Token: children       Stem: children\n",
      "Token: were       Stem: were\n",
      "Token: running       Stem: run\n",
      "Token: and       Stem: and\n",
      "Token: had       Stem: had\n",
      "Token: eaten       Stem: eaten\n",
      "Token: their       Stem: their\n",
      "Token: meals       Stem: meal\n",
      "Token: .       Stem: .\n"
     ]
    },
    {
     "name": "stderr",
     "output_type": "stream",
     "text": [
      "[nltk_data] Downloading package punkt to\n",
      "[nltk_data]     C:\\Users\\tanma\\AppData\\Roaming\\nltk_data...\n",
      "[nltk_data]   Package punkt is already up-to-date!\n"
     ]
    }
   ],
   "source": [
    "import nltk\n",
    "from nltk.stem import PorterStemmer\n",
    "from nltk.tokenize import word_tokenize\n",
    "\n",
    "# Download the required NLTK data\n",
    "nltk.download('punkt')\n",
    "\n",
    "# Example text\n",
    "text = \"The children were running and had eaten their meals.\"\n",
    "\n",
    "# Tokenize the text\n",
    "tokens = word_tokenize(text)\n",
    "\n",
    "# Initialize the Porter Stemmer\n",
    "porter = PorterStemmer()\n",
    "\n",
    "# Apply stemming\n",
    "stems = [porter.stem(token) for token in tokens]\n",
    "\n",
    "# Print tokens and their stems\n",
    "for token, stem in zip(tokens, stems):\n",
    "    print(f\"Token: {token}       Stem: {stem}\")\n"
   ]
  },
  {
   "cell_type": "markdown",
   "metadata": {},
   "source": [
    "### 3. Sentence Segmentation\n",
    "\n",
    "Sentence segmentation is another important step in text processing. The most useful cues for segmenting a text into sentences are punctuation, like periods, question marks, and exclamation points. In general, sentence tokenization methods work by first deciding (based on rules\n",
    "or machine learning) whether a period is part of the word or is a sentence-boundary marker. An abbreviation dictionary can help determine whether the period is part of a commonly used abbreviation; the dictionaries can be hand-built or machinelearned (Kiss and Strunk, 2006), as can the final sentence splitter. "
   ]
  },
  {
   "cell_type": "code",
   "execution_count": 9,
   "metadata": {},
   "outputs": [
    {
     "name": "stdout",
     "output_type": "stream",
     "text": [
      "Hello!\n",
      "How are you?\n",
      "I hope you're doing well.\n",
      "Have a great day!\n"
     ]
    }
   ],
   "source": [
    "from nltk.tokenize import sent_tokenize\n",
    "\n",
    "# Example text\n",
    "text = \"Hello! How are you? I hope you're doing well. Have a great day!\"\n",
    "\n",
    "# Segment the text into sentences\n",
    "sentences = sent_tokenize(text)\n",
    "\n",
    "# Print each sentence\n",
    "for sentence in sentences:\n",
    "    print(sentence)\n"
   ]
  },
  {
   "cell_type": "markdown",
   "metadata": {},
   "source": [
    "#### Stopwords removal\n",
    "\n",
    "Stop word removal is a common preprocessing step in natural language processing (NLP) where commonly occurring words (e.g., \"the\", \"is\", \"in\") are removed from a text. These words are usually filtered out because they do not carry significant meaning and can reduce the efficiency of text processing tasks."
   ]
  },
  {
   "cell_type": "code",
   "execution_count": 10,
   "metadata": {},
   "outputs": [
    {
     "name": "stdout",
     "output_type": "stream",
     "text": [
      "['simple', 'example', 'demonstrate', 'stop', 'word', 'removal', '.']\n"
     ]
    }
   ],
   "source": [
    "import spacy\n",
    "\n",
    "# Load the spaCy model\n",
    "nlp = spacy.load(\"en_core_web_sm\")\n",
    "\n",
    "# Example text\n",
    "text = \"This is a simple example to demonstrate stop word removal.\"\n",
    "\n",
    "# Process the text\n",
    "doc = nlp(text)\n",
    "\n",
    "# Remove stop words from the tokens\n",
    "filtered_tokens = [token.text for token in doc if not token.is_stop]\n",
    "\n",
    "# Print the filtered tokens\n",
    "print(filtered_tokens)\n"
   ]
  },
  {
   "cell_type": "markdown",
   "metadata": {},
   "source": [
    "## Regex\n",
    "\n",
    "Regular expressions (regex) are a powerful tool in Python for pattern matching and text manipulation. The re module in Python provides support for regular expressions.\n",
    "\n",
    "Writing regular expression (regex) patterns can seem complex at first, but understanding the basic components and common patterns can make it much easier. Here's a guide to help you write regex patterns effectively:\n",
    "\n",
    "##### Basic Components of Regex\n",
    "- Character Classes\n",
    "    - [abc]         # Matches 'a', 'b', or 'c'\n",
    "    - [^abc]        # Matches any character except 'a', 'b', or 'c'\n",
    "    - [a-z]         # Matches any lowercase letter\n",
    "    - [A-Z]         # Matches any uppercase letter\n",
    "    - [0-9]         # Matches any digit\n",
    "    - \\d            # Matches any digit, equivalent to [0-9]\n",
    "    - \\D            # Matches any non-digit\n",
    "    - \\w            # Matches any alphanumeric character (word character)\n",
    "    - \\W            # Matches any non-alphanumeric character\n",
    "    - \\s            # Matches any whitespace character\n",
    "    - \\S            # Matches any non-whitespace character\n",
    "\n",
    "- Anchors\n",
    "    - ^             # Matches the start of the string\n",
    "    - $             # Matches the end of the string\n",
    "    - \\b            # Matches a word boundary\n",
    "    - \\B            # Matches a non-word boundary\n",
    "\n",
    "- Quantifiers\n",
    "    - \\*            # Matches 0 or more occurrences\n",
    "    - \\+            # Matches 1 or more occurrences\n",
    "    - ?             # Matches 0 or 1 occurrence\n",
    "    - {n}           # Matches exactly n occurrences\n",
    "    - {n,}          # Matches n or more occurrences\n",
    "    - {n,m}         # Matches between n and m occurrences\n",
    "\n",
    "- Grouping or Alteration\n",
    "    - (abc)         # Groups 'abc' together\n",
    "    - (a|b)         # Matches 'a' or 'b'\n",
    "\n",
    "##### Examples\n",
    "1. Email ID: [a-zA-Z0-9._%+-]+@[a-zA-Z0-9.-]+\\.[a-zA-Z]{2,}\n",
    "2. Phone Number: \\d{3}[-.]\\d{3}[-.]\\d{4}\n",
    "3. URL: https?:\\/\\/(www\\.)?[a-zA-Z0-9._%+-]+\\.[a-zA-Z]{2,}\n",
    "4. Date: \\b\\d{2}[-/]\\d{2}[-/]\\d{4}\\b\n",
    "\n",
    "\n",
    "\n"
   ]
  },
  {
   "cell_type": "markdown",
   "metadata": {},
   "source": [
    "The re.match() function checks if the beginning of a string matches the regex pattern."
   ]
  },
  {
   "cell_type": "code",
   "execution_count": 12,
   "metadata": {},
   "outputs": [
    {
     "name": "stdout",
     "output_type": "stream",
     "text": [
      "Match found: hello\n"
     ]
    }
   ],
   "source": [
    "import re\n",
    "pattern = r'hello'\n",
    "text = 'hello world'\n",
    "\n",
    "match = re.match(pattern, text)\n",
    "if match:\n",
    "    print('Match found:', match.group())\n",
    "else:\n",
    "    print('No match')\n"
   ]
  },
  {
   "cell_type": "markdown",
   "metadata": {},
   "source": [
    "The re.search() function searches the entire string for a match."
   ]
  },
  {
   "cell_type": "code",
   "execution_count": 13,
   "metadata": {},
   "outputs": [
    {
     "name": "stdout",
     "output_type": "stream",
     "text": [
      "Search found: world\n"
     ]
    }
   ],
   "source": [
    "pattern = r'world'\n",
    "text = 'hello world'\n",
    "\n",
    "search = re.search(pattern, text)\n",
    "if search:\n",
    "    print('Search found:', search.group())\n",
    "else:\n",
    "    print('No match')\n"
   ]
  },
  {
   "cell_type": "markdown",
   "metadata": {},
   "source": [
    "The re.findall() function returns a list of all matches in the string."
   ]
  },
  {
   "cell_type": "code",
   "execution_count": 14,
   "metadata": {},
   "outputs": [
    {
     "name": "stdout",
     "output_type": "stream",
     "text": [
      "All matches: ['123', '456']\n"
     ]
    }
   ],
   "source": [
    "pattern = r'\\d+'\n",
    "text = 'There are 123 apples and 456 oranges.'\n",
    "\n",
    "matches = re.findall(pattern, text)\n",
    "print('All matches:', matches)\n"
   ]
  },
  {
   "cell_type": "markdown",
   "metadata": {},
   "source": [
    "The re.split() function splits the string by occurrences of the pattern."
   ]
  },
  {
   "cell_type": "code",
   "execution_count": 15,
   "metadata": {},
   "outputs": [
    {
     "name": "stdout",
     "output_type": "stream",
     "text": [
      "Splits: ['Split', 'this', 'text', 'into', 'words.']\n"
     ]
    }
   ],
   "source": [
    "pattern = r'\\s+'\n",
    "text = 'Split this text into words.'\n",
    "\n",
    "splits = re.split(pattern, text)\n",
    "print('Splits:', splits)\n"
   ]
  },
  {
   "cell_type": "markdown",
   "metadata": {},
   "source": [
    "The re.sub() function replaces occurrences of the pattern with a replacement string."
   ]
  },
  {
   "cell_type": "code",
   "execution_count": 16,
   "metadata": {},
   "outputs": [
    {
     "name": "stdout",
     "output_type": "stream",
     "text": [
      "Replaced text: I have oranges and oranges.\n"
     ]
    }
   ],
   "source": [
    "pattern = r'apples'\n",
    "text = 'I have apples and apples.'\n",
    "replacement = 'oranges'\n",
    "\n",
    "new_text = re.sub(pattern, replacement, text)\n",
    "print('Replaced text:', new_text)\n"
   ]
  }
 ],
 "metadata": {
  "kernelspec": {
   "display_name": "LLM_implmnt",
   "language": "python",
   "name": "python3"
  },
  "language_info": {
   "codemirror_mode": {
    "name": "ipython",
    "version": 3
   },
   "file_extension": ".py",
   "mimetype": "text/x-python",
   "name": "python",
   "nbconvert_exporter": "python",
   "pygments_lexer": "ipython3",
   "version": "3.9.18"
  }
 },
 "nbformat": 4,
 "nbformat_minor": 2
}
