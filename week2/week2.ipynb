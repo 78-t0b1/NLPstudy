{
 "cells": [
  {
   "cell_type": "markdown",
   "metadata": {},
   "source": [
    "# Tanmay Suhas Jagtap\n",
    "#### Portfolio : https://78-t0b1.github.io/Portfolio.github.io/\n",
    "#### Linkein : https://www.linkedin.com/in/tanmay-jagtap-t0b1/\n",
    "#### Github : https://github.com/78-t0b1"
   ]
  },
  {
   "cell_type": "markdown",
   "metadata": {},
   "source": [
    "# **Week 2**\n",
    "\n",
    "## **Text Representation**\n",
    "\n",
    "\n",
    "\n",
    "\n"
   ]
  },
  {
   "cell_type": "code",
   "execution_count": null,
   "metadata": {},
   "outputs": [],
   "source": []
  }
 ],
 "metadata": {
  "language_info": {
   "name": "python"
  }
 },
 "nbformat": 4,
 "nbformat_minor": 2
}
